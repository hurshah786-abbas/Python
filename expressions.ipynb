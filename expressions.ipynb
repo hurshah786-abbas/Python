{
 "cells": [
  {
   "cell_type": "markdown",
   "id": "loved-gallery",
   "metadata": {},
   "source": [
    "# Expressions"
   ]
  },
  {
   "cell_type": "markdown",
   "id": "false-documentary",
   "metadata": {},
   "source": [
    "## Count Seconds in a Decade\n",
    "Write a Python program to calculate the number of seconds in 10 years. Assume that we have 2 leap years in this period. Assign the result into a variable named `seconds_in_10_years`."
   ]
  },
  {
   "cell_type": "code",
   "execution_count": 4,
   "id": "prescribed-faculty",
   "metadata": {},
   "outputs": [
    {
     "name": "stdout",
     "output_type": "stream",
     "text": [
      "Number of seconds in a year :  315360000\n"
     ]
    }
   ],
   "source": [
    "days=365\n",
    "hours=24\n",
    "minutes=60\n",
    "seconds=60\n",
    "\n",
    "\n",
    "Seconds_in_10_years=(10*(days*hours*minutes*seconds))\n",
    "\n",
    "print(\"Number of seconds in a year : \",Seconds_in_10_years)"
   ]
  },
  {
   "cell_type": "markdown",
   "id": "sealed-mouth",
   "metadata": {},
   "source": [
    "## Compute the Area of a Circle\n",
    "Write a Python program that computes the area of a circle based on a given radius. The area of circle can be computed by the following formula: $ a = \\pi r^2 $."
   ]
  },
  {
   "cell_type": "code",
   "execution_count": 7,
   "id": "amber-macedonia",
   "metadata": {},
   "outputs": [
    {
     "name": "stdout",
     "output_type": "stream",
     "text": [
      "Area of a circle = 12.56\n"
     ]
    }
   ],
   "source": [
    "PI = 3.14\n",
    "r = 2\n",
    "area = PI * r * r\n",
    "print(\"Area of a circle = %.2f\" %area)"
   ]
  },
  {
   "cell_type": "markdown",
   "id": "attached-cleaning",
   "metadata": {},
   "source": [
    "## Compute Maximum of Numbers\n",
    "Write a Python program that computes the maximum of two inputs: \n",
    "- The first input should be the absolute of -4. \n",
    "- The second input should be the minimum of -3 and the length of the string `\"abc\"`."
   ]
  },
  {
   "cell_type": "code",
   "execution_count": 8,
   "id": "aware-resort",
   "metadata": {},
   "outputs": [
    {
     "name": "stdout",
     "output_type": "stream",
     "text": [
      "-3\n"
     ]
    }
   ],
   "source": [
    "a = -4\n",
    "b = -3\n",
    " \n",
    "maximum = max(a, b)\n",
    "print(maximum)"
   ]
  },
  {
   "cell_type": "markdown",
   "id": "cooperative-request",
   "metadata": {},
   "source": [
    "## Compute Euclidean Distance\n",
    "Write a Python program to compute the Euclidean distance between two given points $ (x_1, y_1) $ and $ (x_2, y_2) $, which is $ \\sqrt{(x_1 - x_2)^2 + (y_1 - y_2)^2} $."
   ]
  },
  {
   "cell_type": "code",
   "execution_count": 9,
   "id": "killing-shore",
   "metadata": {},
   "outputs": [
    {
     "name": "stdout",
     "output_type": "stream",
     "text": [
      "enter x1 : 5\n",
      "enter x2 : 4\n",
      "enter y1 : 3\n",
      "enter y2 : 2\n",
      "distance between (5, 4) and (3, 2) is :  1.4142135623730951\n"
     ]
    }
   ],
   "source": [
    "x1=int(input(\"enter x1 : \"))\n",
    "\n",
    "x2=int(input(\"enter x2 : \"))\n",
    "\n",
    "y1=int(input(\"enter y1 : \"))\n",
    "\n",
    "y2=int(input(\"enter y2 : \"))\n",
    "\n",
    "result= ((((x2 - x1 )**2) + ((y2-y1)**2) )**0.5)\n",
    "\n",
    "print(\"distance between\",(x1,x2),\"and\",(y1,y2),\"is : \",result)"
   ]
  },
  {
   "cell_type": "markdown",
   "id": "color-texas",
   "metadata": {},
   "source": [
    "## Convert Fahrenheit to Celsius \n",
    "Write a Python program to convert fahrenheit to celsius based on the the following formula: $ C = (F - 32) \\times \\frac{5}{9}. $"
   ]
  },
  {
   "cell_type": "code",
   "execution_count": 10,
   "id": "broad-ordinary",
   "metadata": {},
   "outputs": [
    {
     "name": "stdout",
     "output_type": "stream",
     "text": [
      "Enter the temperature in Fahrenheit: 55\n",
      "Temperature in Fahrenheit = 55.00\n",
      "Temperature in Celsius = 12.78\n"
     ]
    }
   ],
   "source": [
    "def ConvertFtoC(F):\n",
    "\n",
    "    # Convert the Fahrenheit into Celsius\n",
    "\n",
    "    C = (5 / 9) * (F - 32)\n",
    "\n",
    "    # Return the conversion value\n",
    "\n",
    "    return C\n",
    "\n",
    "\n",
    "# Take the Fahrenheit value from the user\n",
    "\n",
    "F = float(input(\"Enter the temperature in Fahrenheit: \"))\n",
    "\n",
    "\n",
    "# Print the Fahrenheit value\n",
    "\n",
    "print(\"Temperature in Fahrenheit = {:.2f}\".format(F))\n",
    "\n",
    "# Print the Celsius value\n",
    "\n",
    "print(\"Temperature in Celsius = {:.2f}\".format(ConvertFtoC(F)))"
   ]
  },
  {
   "cell_type": "markdown",
   "id": "imported-yeast",
   "metadata": {},
   "source": [
    "## Print User's Name\n",
    "Write a Python program which accepts the user's first and last name and prints them in reverse order with a space between them. For example, if the user enters `John Doe`, the program should print `Doe John`. Note that you can use the `input()` function to take user's inputs."
   ]
  },
  {
   "cell_type": "code",
   "execution_count": null,
   "id": "inner-arabic",
   "metadata": {},
   "outputs": [],
   "source": [
    "fname = input(\"Input your First Name : \")\n",
    "lname = input(\"Input your Last Name : \")\n",
    "print (\"Hello  \" + lname + \" \" + fname)"
   ]
  },
  {
   "cell_type": "code",
   "execution_count": 1,
   "id": "6a78becc",
   "metadata": {},
   "outputs": [
    {
     "name": "stdout",
     "output_type": "stream",
     "text": [
      "81\n"
     ]
    }
   ],
   "source": [
    "a= 3**4\n",
    "print(a)"
   ]
  },
  {
   "cell_type": "code",
   "execution_count": null,
   "id": "359b9941",
   "metadata": {},
   "outputs": [],
   "source": []
  },
  {
   "cell_type": "markdown",
   "id": "3d187e0e",
   "metadata": {},
   "source": [
    "## Read a Text File\n",
    "Write a Python program that opens this Jupyter notebook as a text file and prints the number of its characters."
   ]
  },
  {
   "cell_type": "code",
   "execution_count": null,
   "id": "468bc699",
   "metadata": {},
   "outputs": [],
   "source": []
  }
 ],
 "metadata": {
  "kernelspec": {
   "display_name": "Python 3 (ipykernel)",
   "language": "python",
   "name": "python3"
  },
  "language_info": {
   "codemirror_mode": {
    "name": "ipython",
    "version": 3
   },
   "file_extension": ".py",
   "mimetype": "text/x-python",
   "name": "python",
   "nbconvert_exporter": "python",
   "pygments_lexer": "ipython3",
   "version": "3.8.12"
  }
 },
 "nbformat": 4,
 "nbformat_minor": 5
}
