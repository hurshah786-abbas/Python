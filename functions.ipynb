{
 "cells": [
  {
   "cell_type": "markdown",
   "id": "qualified-overhead",
   "metadata": {},
   "source": [
    "# Functions"
   ]
  },
  {
   "cell_type": "markdown",
   "id": "geographic-kazakhstan",
   "metadata": {},
   "source": [
    "## Count Non-Vowel Characters\n",
    "Write a Python function that takes a string and returns the number of non-vowel characters in that string. Vowel characters in English are `\"a\"`, `\"e\"`, `\"i\"`, `\"o\"`, and `\"u\"`. For example, given the string `\"abcdA\"`, the function should return 3."
   ]
  },
  {
   "cell_type": "code",
   "execution_count": 12,
   "id": "increased-introduction",
   "metadata": {},
   "outputs": [
    {
     "name": "stdout",
     "output_type": "stream",
     "text": [
      "No of consonants: 3\n"
     ]
    }
   ],
   "source": [
    "# Python program to count consonant in a string\n",
    "\n",
    "def countConsonants(string):\n",
    "   num_consonants = 0\n",
    "   # to count the consonants\n",
    "   for char in string:\n",
    "      if char not in \"aeiouAEIOU \":\n",
    "         num_consonants += 1\n",
    "   return num_consonants\n",
    "\n",
    "# input String \n",
    "string = 'abcdA'\n",
    "\n",
    "# calling function and display result\n",
    "print('No of consonants:',countConsonants(string))"
   ]
  },
  {
   "cell_type": "markdown",
   "id": "permanent-lawsuit",
   "metadata": {},
   "source": [
    "## Multiply the List Elements\n",
    "Write a Python function that takes a list of values as input and returns the product of all the numbers in the list. For example, given the input list `[1, 3, 8]`, the function should return 24."
   ]
  },
  {
   "cell_type": "code",
   "execution_count": 15,
   "id": "extensive-dividend",
   "metadata": {},
   "outputs": [
    {
     "name": "stdout",
     "output_type": "stream",
     "text": [
      "24\n"
     ]
    }
   ],
   "source": [
    "def multiplyList(myList) :\n",
    "     \n",
    "    # Multiply elements one by one\n",
    "    result = 1\n",
    "    for x in myList:\n",
    "         result = result * x\n",
    "    return result\n",
    "     \n",
    "# Driver code\n",
    "list1 = [1, 3, 8]\n",
    "print(multiplyList(list1))\n"
   ]
  },
  {
   "cell_type": "markdown",
   "id": "documented-discharge",
   "metadata": {},
   "source": [
    "## Check if a String is Palindrome\n",
    "Write a Python function that takes a string and returns `True` if it is palindrome. A palindrome is a word, number, phrase, or other sequence of characters which reads the same backward as forward. For example, given the string `\"abc\"` the function should return `False`. But, given the string `\"aba\"`, the function should return `True`."
   ]
  },
  {
   "cell_type": "code",
   "execution_count": 23,
   "id": "homeless-generator",
   "metadata": {},
   "outputs": [
    {
     "name": "stdout",
     "output_type": "stream",
     "text": [
      "True\n"
     ]
    }
   ],
   "source": [
    "a_string = 'aba'\n",
    "def palindrome(string):\n",
    "    return string == string[::-1]\n",
    "print(palindrome(a_string))"
   ]
  },
  {
   "cell_type": "markdown",
   "id": "retired-craps",
   "metadata": {},
   "source": [
    "## Count the Unique Digits in an Integer\n",
    "Write a Python function that takes a positive integer and returns the number of unique digits in that integer. For example, given the integer 12315, the function should return 4."
   ]
  },
  {
   "cell_type": "code",
   "execution_count": 29,
   "id": "australian-resort",
   "metadata": {},
   "outputs": [
    {
     "name": "stdout",
     "output_type": "stream",
     "text": [
      "4\n"
     ]
    }
   ],
   "source": [
    "num_In = 12315\n",
    "def unique_digits(num): \n",
    "    return len( set(str(num)) )\n",
    "print(unique_digits(num_In))"
   ]
  },
  {
   "cell_type": "markdown",
   "id": "upset-physiology",
   "metadata": {},
   "source": [
    "## Check a Number is Prime\n",
    "Write a Python function that takes a number and checks the number is prime or not. It should return `True` for being prime and `False` otherwise. Note that a prime number (or a prime) is a natural number greater than 1 and that has no positive divisors other than 1 and itself. For example, the function should return `True` for the given number 7 and `False` for the given number 10."
   ]
  },
  {
   "cell_type": "code",
   "execution_count": 32,
   "id": "normal-garbage",
   "metadata": {},
   "outputs": [
    {
     "name": "stdout",
     "output_type": "stream",
     "text": [
      "False\n"
     ]
    }
   ],
   "source": [
    "def isprime(num):\n",
    "    if num> 1:  \n",
    "        for n in range(2,num):  \n",
    "            if (num % n) == 0:  \n",
    "                return False\n",
    "        return True\n",
    "    else:\n",
    "        return False\n",
    "print(isprime(64))\n"
   ]
  },
  {
   "cell_type": "markdown",
   "id": "daily-console",
   "metadata": {},
   "source": [
    "## Sort Hyphened-Seperated Words\n",
    "Write a Python function that takes a sequence of words that are separated by hyphens as input and returns the words in a hyphen-separated sequence after sorting the words alphabetically. For example, given the string `\"green-red-yellow-black-white\"`, the function should return `\"black-green-red-white-yellow\"`."
   ]
  },
  {
   "cell_type": "code",
   "execution_count": 34,
   "id": "aging-staff",
   "metadata": {},
   "outputs": [
    {
     "data": {
      "text/plain": [
       "'black-green-red-white-yellow'"
      ]
     },
     "execution_count": 34,
     "metadata": {},
     "output_type": "execute_result"
    }
   ],
   "source": [
    "def str_sort(string):\n",
    "  b = string.split('-')\n",
    "  b.sort()\n",
    "  c = '-'.join(b)\n",
    "  return c\n",
    "\n",
    "a = \"green-red-yellow-black-white\"\n",
    "str_sort(a)"
   ]
  },
  {
   "cell_type": "markdown",
   "id": "dressed-leisure",
   "metadata": {},
   "source": [
    "## Count the Characters\n",
    "Write a Python function that takes a string as input and returns a dictionary that stores the frequency of each character in the input string. For example, given the string `\"abca\"`, the function should return `{'a': 2, 'b': 1, 'c': 1}`."
   ]
  },
  {
   "cell_type": "code",
   "execution_count": 37,
   "id": "complete-stress",
   "metadata": {},
   "outputs": [
    {
     "name": "stdout",
     "output_type": "stream",
     "text": [
      "{'a': 2, 'b': 1, 'c': 1}\n"
     ]
    }
   ],
   "source": [
    "def charCounter(string):\n",
    "    empty = {}\n",
    "    for i in string.lower():\n",
    "        if i in empty.keys():\n",
    "            empty[i] += 1\n",
    "        else:\n",
    "            empty[i] = 1\n",
    "    return empty\n",
    "\n",
    "print(charCounter(\"abca\"))"
   ]
  },
  {
   "cell_type": "markdown",
   "id": "aerial-uganda",
   "metadata": {},
   "source": [
    "## Compute the Fibonacci Sequence\n",
    "The Fibonacci Sequence is computed based on the following formula:     \n",
    "\n",
    "$$ f(n) = 0 \\text{   if } n = 0; \\\\\n",
    "f(n) = 1 \\text{   if } n = 1; \\\\\n",
    "f(n) = f(n-1) + f(n-2) \\text{   if } n > 1. $$     \n",
    "\n",
    "Write a Python function that computes the value of `f(n)` with a given `n` as input. For example, given 7, the function should return 13."
   ]
  },
  {
   "cell_type": "code",
   "execution_count": 53,
   "id": "compatible-senate",
   "metadata": {},
   "outputs": [
    {
     "name": "stdout",
     "output_type": "stream",
     "text": [
      "Fibonacci sequence:\n",
      "0\n",
      "1\n",
      "1\n",
      "2\n",
      "3\n",
      "5\n",
      "8\n"
     ]
    }
   ],
   "source": [
    "# Python program to display the Fibonacci sequence\n",
    "\n",
    "def recur_fibo(n):\n",
    "   if n <= 1:\n",
    "       return n\n",
    "   else:\n",
    "       return(recur_fibo(n-1) + recur_fibo(n-2))\n",
    "\n",
    "nterms = 7\n",
    "\n",
    "# check if the number of terms is valid\n",
    "if nterms <= 0:\n",
    "   print(\"Plese enter a positive integer\")\n",
    "else:\n",
    "   print(\"Fibonacci sequence:\")\n",
    "   for i in range(nterms):\n",
    "       print(recur_fibo(i))"
   ]
  },
  {
   "cell_type": "code",
   "execution_count": 1,
   "id": "6a60c471",
   "metadata": {},
   "outputs": [
    {
     "name": "stdout",
     "output_type": "stream",
     "text": [
      "13\n"
     ]
    }
   ],
   "source": [
    "def F(n):\n",
    "    if n == 0: return 0\n",
    "    elif n == 1: return 1\n",
    "    else: return F(n-1)+F(n-2)\n",
    "print(F(7))"
   ]
  },
  {
   "cell_type": "code",
   "execution_count": 5,
   "id": "89b5b65c",
   "metadata": {},
   "outputs": [
    {
     "name": "stdout",
     "output_type": "stream",
     "text": [
      "5527939700884757\n"
     ]
    }
   ],
   "source": [
    "    def fib(n: int) -> int: \n",
    "       if n == 0: return 0 \n",
    "       value1, value2 = 1, 1 \n",
    "       while n > 2: \n",
    "          value1, value2 = value2, value1+value2 \n",
    "          n -= 1 \n",
    "       return value2 \n",
    "print(fib(77))"
   ]
  },
  {
   "cell_type": "code",
   "execution_count": 11,
   "id": "787f46de",
   "metadata": {},
   "outputs": [
    {
     "name": "stdout",
     "output_type": "stream",
     "text": [
      "8944394323791464\n"
     ]
    }
   ],
   "source": [
    "def fib2(n):\n",
    "    seq= []\n",
    "    for i in range(0, n +1):\n",
    "        if i == 0:\n",
    "            seq.append(0)\n",
    "        elif i == 1:\n",
    "            seq.append(1)\n",
    "        else:\n",
    "            n_2= seq[-2]\n",
    "            n_1= seq[-1]\n",
    "            summ= n_2 + n_1\n",
    "            seq.append(summ)\n",
    "    return seq[n]\n",
    "\n",
    "print(fib2(78))"
   ]
  },
  {
   "cell_type": "code",
   "execution_count": null,
   "id": "107ac633",
   "metadata": {},
   "outputs": [],
   "source": []
  }
 ],
 "metadata": {
  "kernelspec": {
   "display_name": "Python 3 (ipykernel)",
   "language": "python",
   "name": "python3"
  },
  "language_info": {
   "codemirror_mode": {
    "name": "ipython",
    "version": 3
   },
   "file_extension": ".py",
   "mimetype": "text/x-python",
   "name": "python",
   "nbconvert_exporter": "python",
   "pygments_lexer": "ipython3",
   "version": "3.8.12"
  }
 },
 "nbformat": 4,
 "nbformat_minor": 5
}
