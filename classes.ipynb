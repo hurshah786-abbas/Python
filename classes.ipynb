{
 "cells": [
  {
   "cell_type": "markdown",
   "id": "isolated-catholic",
   "metadata": {},
   "source": [
    "# Classes"
   ]
  },
  {
   "cell_type": "markdown",
   "id": "valuable-coupon",
   "metadata": {},
   "source": [
    "## Course Class\n",
    "Define a course class with the followings:\n",
    "- A `code` attribute.\n",
    "- A `name` attribute.\n",
    "- A `credits` attribute.\n",
    "- A `semester` attribute.\n",
    "- An `instructor` attribute.\n",
    "- An `__init__` method.\n",
    "- A `__str__` method."
   ]
  },
  {
   "cell_type": "code",
   "execution_count": null,
   "id": "e6eee1fd",
   "metadata": {},
   "outputs": [],
   "source": []
  },
  {
   "cell_type": "markdown",
   "id": "5e12acd5",
   "metadata": {},
   "source": [
    "## Student Class\n",
    "Define a student class with the followings:\n",
    "- A `first_name` attribute.\n",
    "- A `last_name` attribute.\n",
    "- An `number` attribute.\n",
    "- A `courses` attribute that stores a dictionary of passed **course objects** and their mark.\n",
    "- An `__init__` method.\n",
    "- A `__str__` method.\n",
    "- A `get_gpa` method.\n",
    "- A `set_course_mark` method."
   ]
  },
  {
   "cell_type": "code",
   "execution_count": 5,
   "id": "according-purse",
   "metadata": {},
   "outputs": [],
   "source": [
    "class Student:\n",
    "    def __init__(self, first_name, last_name, id_st, courses, get_gpa, set_course_mark):\n",
    "        self.first_name = first_name\n",
    "        self.last_name = last_name\n",
    "        self.id_st = id_st\n",
    "        self.courses = courses\n",
    "        self.get_gpa = get_gpa\n",
    "        self.set_course_mark = set_course_mark\n",
    "\n",
    "        def getFirstname(self):\n",
    "            return self.first_name\n",
    "\n",
    "        def getLastname(self):\n",
    "            return self.last_name\n",
    "\n",
    "        def id_st(self):\n",
    "            return self.id_st\n",
    "\n",
    "        def getGpa(self):\n",
    "            return self.gpa\n",
    "\n",
    "        def setFirstname(self, first_name):\n",
    "            self.first_name = first\n",
    "\n",
    "        def setLastname(self, last_name):\n",
    "            self.last_name = last\n",
    "\n",
    "        def setNumcredits(self, numCredits):\n",
    "            self.NumCredits = credit\n",
    "\n",
    "        def setGpa(self, gpa):\n",
    "            self.gpa = gpa\n",
    "\n",
    "            \n",
    "        def __str__(self):\n",
    "            return (self.first_name, self.last_name, self.numCredits, self.gpa)"
   ]
  },
  {
   "cell_type": "code",
   "execution_count": 9,
   "id": "1d186adb",
   "metadata": {},
   "outputs": [
    {
     "name": "stdout",
     "output_type": "stream",
     "text": [
      "I am jhonny sins.My GPA is <bound method Student.get_gpa of <__main__.Student object at 0x7fc5cad58220>>\n"
     ]
    }
   ],
   "source": [
    "class Student:\n",
    "    \"\"\"\n",
    "    Student class\n",
    "    \"\"\"\n",
    "    \n",
    "    def __init__(self,fname,lname,num):\n",
    "        self.first_name =fname\n",
    "        self.last_name = lname\n",
    "        self.number = num\n",
    "        self.courses = {}\n",
    "        \n",
    "    def __str__(self):\n",
    "        return f\"I am {self.first_name} {self.last_name}.My GPA is {self.get_gpa}\"\n",
    "    \n",
    "    def set_course_mark(self, course_name ,course_mark):\n",
    "        self.courses[course_name] = course_mark\n",
    "        \n",
    "    def get_gpa(self):\n",
    "        \n",
    "        return sum(self.courses.values())/len(self.courses)\n",
    "    \n",
    "s1 = Student(\"jhonny\", \"sins\",111)\n",
    "s1.set_course_mark(\"Python\",70)\n",
    "s1.set_course_mark(\"ML\",85)\n",
    "gpa = s1.get_gpa()\n",
    "print(s1)\n",
    "        "
   ]
  },
  {
   "cell_type": "markdown",
   "id": "palestinian-expert",
   "metadata": {},
   "source": [
    "## University Class\n",
    "Define a university class with the followings:\n",
    "- A `name` attribute.\n",
    "- A `students` attribute that stores a list of **student objects**.\n",
    "- An `__init__` method.\n",
    "- A `__str__` method.\n",
    "- A `register_student` method.\n",
    "- A `graduate_student` method."
   ]
  },
  {
   "cell_type": "code",
   "execution_count": null,
   "id": "going-custom",
   "metadata": {},
   "outputs": [],
   "source": []
  }
 ],
 "metadata": {
  "kernelspec": {
   "display_name": "Python 3 (ipykernel)",
   "language": "python",
   "name": "python3"
  },
  "language_info": {
   "codemirror_mode": {
    "name": "ipython",
    "version": 3
   },
   "file_extension": ".py",
   "mimetype": "text/x-python",
   "name": "python",
   "nbconvert_exporter": "python",
   "pygments_lexer": "ipython3",
   "version": "3.8.12"
  }
 },
 "nbformat": 4,
 "nbformat_minor": 5
}
