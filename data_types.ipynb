{
 "cells": [
  {
   "cell_type": "markdown",
   "id": "novel-stream",
   "metadata": {},
   "source": [
    "# Data Types"
   ]
  },
  {
   "cell_type": "markdown",
   "id": "finite-albania",
   "metadata": {},
   "source": [
    "## Remove Vowels\n",
    "Write a Python program that takes a string, makes the character lowercase, removes its vowel characters (`\"a\"`, `\"e\"`, `\"i\"`, `\"o\"`, and `\"u\"`) and prints the result. For example, given the string `\"Hello\"`, the program should print `\"hll\"`."
   ]
  },
  {
   "cell_type": "code",
   "execution_count": 1,
   "id": "6e90239c",
   "metadata": {},
   "outputs": [
    {
     "name": "stdout",
     "output_type": "stream",
     "text": [
      "HELLo\n",
      "\n",
      "String after removing Vowels: \n",
      "hll\n"
     ]
    }
   ],
   "source": [
    "s=input()\n",
    "new_st=\"\"\n",
    "for i in range (len(s)):\n",
    "    if s[i].isupper():\n",
    "        new_st+=s[i].lower()\n",
    "    else:\n",
    "        new_st+=s[i]\n",
    "\n",
    "vowels = ['a', 'e', 'i', 'o', 'u', 'A', 'E', 'I', 'O', 'U']\n",
    "newtext = \"\"\n",
    "textlen = len(new_st)\n",
    "\n",
    "for i in range(textlen):\n",
    "    if new_st[i] not in vowels:\n",
    "        newtext = newtext + new_st[i]\n",
    "\n",
    "print(\"\\nString after removing Vowels: \")\n",
    "new_st = newtext\n",
    "print(new_st)"
   ]
  },
  {
   "cell_type": "markdown",
   "id": "formed-candy",
   "metadata": {},
   "source": [
    "## Reverse the Words\n",
    "Write a Python program that takes a string containing some words that are separeted with whitespace, reverses the words in the string, and prints the result. For example, given the string `\"hello how are you\"`, the program should print `\"you are how hello\"`. "
   ]
  },
  {
   "cell_type": "code",
   "execution_count": 2,
   "id": "2926d2ed",
   "metadata": {},
   "outputs": [
    {
     "name": "stdout",
     "output_type": "stream",
     "text": [
      "you are how hello\n"
     ]
    }
   ],
   "source": [
    "# Function to reverse words of string \n",
    "  \n",
    "def rev_sentence(sentence): \n",
    "  \n",
    "    # first split the string into words \n",
    "    words = sentence.split(' ') \n",
    "  \n",
    "    # then reverse the split string list and join using space \n",
    "    reverse_sentence = ' '.join(reversed(words)) \n",
    "  \n",
    "    # finally return the joined string \n",
    "    return reverse_sentence \n",
    "  \n",
    "if __name__ == \"__main__\": \n",
    "    input = 'hello how are you'\n",
    "    print (rev_sentence(input))"
   ]
  },
  {
   "cell_type": "markdown",
   "id": "after-radius",
   "metadata": {},
   "source": [
    "## Count Common Elements of 2 Lists\n",
    "Write a Python program that prints the number of common elements in two given lists. For example, given `[1, 2, 3]` and `[5, 1, 3]`, the program should print 2."
   ]
  },
  {
   "cell_type": "code",
   "execution_count": 3,
   "id": "49c3fb7d",
   "metadata": {},
   "outputs": [
    {
     "data": {
      "text/plain": [
       "2"
      ]
     },
     "execution_count": 3,
     "metadata": {},
     "output_type": "execute_result"
    }
   ],
   "source": [
    "list1 = [1,2,3]\n",
    "list2 = [5,1,3]\n",
    "list(set(list1).intersection(list2))\n",
    "\n",
    "len([x for x in list1 if x in list2])"
   ]
  },
  {
   "cell_type": "markdown",
   "id": "secret-theme",
   "metadata": {},
   "source": [
    "## Print Sorted Unique Words\n",
    "Write a Python program that takes a string containing some words that are separeted with whitespace, removes all duplicate words, sorts the remaining words alphanumerically, and prints the result. For example, given the string `\"hello world and practice makes perfect and hello world again\"`, the program should print `\"again and hello makes perfect practice world\"`."
   ]
  },
  {
   "cell_type": "code",
   "execution_count": 4,
   "id": "1e811a7a",
   "metadata": {},
   "outputs": [
    {
     "name": "stdout",
     "output_type": "stream",
     "text": [
      "again and hello makes perfect practice world\n"
     ]
    }
   ],
   "source": [
    "phrase = \"hello world and practice makes perfect and hello world again\"\n",
    "phrase_splited = phrase.split(' ')\n",
    "\n",
    "word_list = []\n",
    "for i in phrase_splited:\n",
    "    if i not in word_list:\n",
    "        word_list.append(i)\n",
    "    else:\n",
    "        continue\n",
    "word_list.sort()\n",
    "print((' ').join(word_list))"
   ]
  },
  {
   "cell_type": "markdown",
   "id": "satellite-residence",
   "metadata": {},
   "source": [
    "## Convert a List of Integers to an Integer\n",
    "Write a Python program to convert a given list of integers to an integer. For example, given `[11, 2, 54]`, the program should assign 11254 into an integer variable."
   ]
  },
  {
   "cell_type": "code",
   "execution_count": 5,
   "id": "b40f0d32",
   "metadata": {},
   "outputs": [
    {
     "name": "stdout",
     "output_type": "stream",
     "text": [
      "11254"
     ]
    }
   ],
   "source": [
    "# creating a list\n",
    "lst = [11,2,54]\n",
    "  \n",
    "# iterating each element\n",
    "for i in lst:\n",
    "    print(i, end=\"\")"
   ]
  },
  {
   "cell_type": "code",
   "execution_count": null,
   "id": "60eaab6a",
   "metadata": {},
   "outputs": [],
   "source": []
  }
 ],
 "metadata": {
  "kernelspec": {
   "display_name": "Python 3 (ipykernel)",
   "language": "python",
   "name": "python3"
  },
  "language_info": {
   "codemirror_mode": {
    "name": "ipython",
    "version": 3
   },
   "file_extension": ".py",
   "mimetype": "text/x-python",
   "name": "python",
   "nbconvert_exporter": "python",
   "pygments_lexer": "ipython3",
   "version": "3.8.12"
  }
 },
 "nbformat": 4,
 "nbformat_minor": 5
}
