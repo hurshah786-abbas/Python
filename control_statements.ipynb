{
 "cells": [
  {
   "cell_type": "markdown",
   "id": "broad-significance",
   "metadata": {},
   "source": [
    "# Control Statements"
   ]
  },
  {
   "cell_type": "markdown",
   "id": "mighty-picnic",
   "metadata": {},
   "source": [
    "## Check 2 Numbers are Dividable\n",
    "Write a Python prgoram that takes 2 numbers and prints whether the first one is dividable by the second one or not. For example, if the user inputs 10 and 5, the program should print `\"10 is dividable by 5\"`. "
   ]
  },
  {
   "cell_type": "code",
   "execution_count": 1,
   "id": "everyday-league",
   "metadata": {},
   "outputs": [
    {
     "name": "stdout",
     "output_type": "stream",
     "text": [
      "Enter First Number : 5\n",
      "Enter Second Number : 3\n",
      "5  is not fully divisible by  3\n"
     ]
    }
   ],
   "source": [
    "a=int(input(\"Enter First Number : \"))\n",
    "b=int(input(\"Enter Second Number : \"))\n",
    "if a%b==0:\n",
    "    print(a,\" is fully divisible by \",b)\n",
    "else:\n",
    "    print(a,\" is not fully divisible by \",b)"
   ]
  },
  {
   "cell_type": "markdown",
   "id": "certified-smell",
   "metadata": {},
   "source": [
    "## Check a Website Address Has .com\n",
    "Write a Python program that takes a website address and prints out whether it ends with `.com` or not. For example, given the string `\"www.google.com\"`, the program should print `\"www.google.com ends with .com\"`."
   ]
  },
  {
   "cell_type": "code",
   "execution_count": 8,
   "id": "framed-index",
   "metadata": {},
   "outputs": [
    {
     "name": "stdout",
     "output_type": "stream",
     "text": [
      "www.google.co\n",
      "www.google.co Does not end with .com\n"
     ]
    }
   ],
   "source": [
    "a =input()\n",
    "\n",
    "# check if the message ends with fun\n",
    "if a.endswith('.com'):\n",
    "    \n",
    "    print(a,'ends with .com')\n",
    "\n",
    "else:\n",
    "    print(a, 'Does not end with .com')\n"
   ]
  },
  {
   "cell_type": "markdown",
   "id": "lonely-hollow",
   "metadata": {},
   "source": [
    "## Remove Non-String List Elements\n",
    "Write a Python program that takes a list and create another list that only contains string elements of the first list. For example, given the list `[1, \"hello\", 4.3, True, \"bye\"]`, the program should define a list `[\"hello\", \"bye\"]`."
   ]
  },
  {
   "cell_type": "code",
   "execution_count": 12,
   "id": "compound-commissioner",
   "metadata": {},
   "outputs": [
    {
     "data": {
      "text/plain": [
       "['hello', 'bye']"
      ]
     },
     "execution_count": 12,
     "metadata": {},
     "output_type": "execute_result"
    }
   ],
   "source": [
    "\n",
    "\n",
    "l1 = [1, \"hello\", 4.3, True, \"bye\"]\n",
    "\n",
    "l2 = []\n",
    "for i in l1:\n",
    "    if isinstance(i,str):\n",
    "        l2.append(i)       \n",
    "l2\n",
    "\n"
   ]
  },
  {
   "cell_type": "markdown",
   "id": "conceptual-lobby",
   "metadata": {},
   "source": [
    "## Compare Numbers\n",
    "Write a Python program that takes an integer, compares it to a predefined number, and tells the user to guess a larger or smaller number. For example, suppose the predefined number is 10 and the user inputs 7. The program should print `\"7 is too small!\"`."
   ]
  },
  {
   "cell_type": "code",
   "execution_count": null,
   "id": "religious-leonard",
   "metadata": {},
   "outputs": [],
   "source": [
    "x= 10\n",
    "z=5\n",
    "\n",
    "if x == z:\n",
    "    print"
   ]
  },
  {
   "cell_type": "markdown",
   "id": "gorgeous-knitting",
   "metadata": {},
   "source": [
    "## Sum Even Numbers\n",
    "Write a Python program that computes the sum of even numbers in a given list of integers. "
   ]
  },
  {
   "cell_type": "code",
   "execution_count": null,
   "id": "artificial-professor",
   "metadata": {},
   "outputs": [],
   "source": []
  },
  {
   "cell_type": "markdown",
   "id": "e3044c58",
   "metadata": {},
   "source": [
    "## Find All Divisors\n",
    "Write a Python prgoram that find all divisors of a given positive integer and store them in a list. For example, given 10, the resulting list should be `[1, 2, 5, 10]`."
   ]
  },
  {
   "cell_type": "code",
   "execution_count": 17,
   "id": "9bee6850",
   "metadata": {},
   "outputs": [
    {
     "name": "stdout",
     "output_type": "stream",
     "text": [
      "Enter an integer:10\n",
      "The divisors of the number are:\n",
      "1\n",
      "2\n",
      "5\n",
      "10\n"
     ]
    }
   ],
   "source": [
    "n=int(input(\"Enter an integer:\"))\n",
    "print(\"The divisors of the number are:\")\n",
    "for i in range(1,n+1):\n",
    "    if(n%i==0):\n",
    "        print(i)"
   ]
  },
  {
   "cell_type": "markdown",
   "id": "41b462e9",
   "metadata": {},
   "source": [
    "## Find the Largest Word\n",
    "Write a Python program that finds the largest word in a given input string. For example, given the string `\"hello how are you\"`, the program should print `\"hello\"`."
   ]
  },
  {
   "cell_type": "code",
   "execution_count": 15,
   "id": "13037cad",
   "metadata": {},
   "outputs": [
    {
     "name": "stdout",
     "output_type": "stream",
     "text": [
      "Enter sentence: hello how are you\n",
      "Longest word is:  hello\n",
      "And its length is:  5\n"
     ]
    }
   ],
   "source": [
    "sentence = input(\"Enter sentence: \")\n",
    "\n",
    "# Finding longest word\n",
    "longest = max(sentence.split(), key=len)\n",
    "\n",
    "# Displaying longest word\n",
    "print(\"Longest word is: \", longest)\n",
    "print(\"And its length is: \", len(longest))"
   ]
  },
  {
   "cell_type": "markdown",
   "id": "3b71775e",
   "metadata": {},
   "source": [
    "## Count the Frequency of List Elements\n",
    "Write a Python program that counts the frequency of each element in a given list and store them in a dictionary. For example, given the list `[111, \"hello\", 222, \"hello\", 111]`, the program should define a dictionary `{111: 2, \"hello\": 2, 222: 1}`."
   ]
  },
  {
   "cell_type": "code",
   "execution_count": 13,
   "id": "fdb69cdb",
   "metadata": {},
   "outputs": [
    {
     "name": "stdout",
     "output_type": "stream",
     "text": [
      "{111: 2, 'hello': 2, 222: 1}\n"
     ]
    }
   ],
   "source": [
    "# initializing the list\n",
    "random_list = [111, \"hello\",222, \"hello\", 111]\n",
    "frequency = {}\n",
    "\n",
    "# iterating over the list\n",
    "for item in random_list:\n",
    "   # checking the element in dictionary\n",
    "   if item in frequency:\n",
    "      # incrementing the counr\n",
    "      frequency[item] += 1\n",
    "   else:\n",
    "      # initializing the count\n",
    "      frequency[item] = 1\n",
    "\n",
    "# printing the frequency\n",
    "print(frequency)"
   ]
  },
  {
   "cell_type": "markdown",
   "id": "1756ced4",
   "metadata": {},
   "source": [
    "## Capitalize the Words\n",
    "Write a Python program that takes a string containing words that are separated by whitespace, capitalizes the first character of each word, and prints the result. For example, given the string `\"hello how are you\"`, the program should print `\"Hello How Are You\"`."
   ]
  },
  {
   "cell_type": "code",
   "execution_count": 14,
   "id": "c03c20a1",
   "metadata": {},
   "outputs": [
    {
     "name": "stdout",
     "output_type": "stream",
     "text": [
      "Hello How Are You\n"
     ]
    }
   ],
   "source": [
    "sample_text = \"hello how are you\"\n",
    "# Capitalize the first letter of each word\n",
    "result = sample_text.title()\n",
    "print(result)"
   ]
  },
  {
   "cell_type": "code",
   "execution_count": null,
   "id": "91c768c6",
   "metadata": {},
   "outputs": [],
   "source": []
  }
 ],
 "metadata": {
  "kernelspec": {
   "display_name": "Python 3 (ipykernel)",
   "language": "python",
   "name": "python3"
  },
  "language_info": {
   "codemirror_mode": {
    "name": "ipython",
    "version": 3
   },
   "file_extension": ".py",
   "mimetype": "text/x-python",
   "name": "python",
   "nbconvert_exporter": "python",
   "pygments_lexer": "ipython3",
   "version": "3.8.12"
  }
 },
 "nbformat": 4,
 "nbformat_minor": 5
}
